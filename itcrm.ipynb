!pip install gradio google-generativeai requests

import gradio as gr
import datetime
import google.generativeai as genai
import os
import requests
import io

# --- 設定 Gemini API ---
# 請在此處貼上您的 Google API 金鑰
# 在 Google AI Studio 中可以免費取得: https://aistudio.google.com/app/apikey
# 警告：請勿將您的 API 金鑰直接寫在程式碼中並分享給他人。
# 較安全的作法是使用環境變數。
try:
    # 簡單作法：直接設定 (請替換成您的金鑰)
    # 若金鑰無效或未設定，問答功能將無法運作。
    YOUR_API_KEY = "YOUR_GOOGLE_API_KEY"  # <-- 請替換成您的金鑰
    if YOUR_API_KEY == "YOUR_GOOGLE_API_KEY":
        print("警告:尚未設定 Google API Key，'公司通用Q&A'與'IT知識庫'分頁將無法使用。")
        gemini_model = None
    else:
        genai.configure(api_key=YOUR_API_KEY)
        gemini_model = genai.GenerativeModel('gemini-1.5-flash')

except Exception as e:
    print(f"初始化 Gemini API 時發生錯誤: {e}")
    gemini_model = None


# --- TAB 1: APACHE 資料分析功能 (已修改為相容舊版) ---
def analyze_apache_logs(start_date_str, end_date_str):
    """
    分析指定的網路連結(Google Doc發布)中的日誌，找出指定日期範圍內的錯誤訊息。
    """

    try:
        start_date = datetime.datetime.strptime(start_date_str, '%Y-%m-%d').date()
        end_date = datetime.datetime.strptime(end_date_str, '%Y-%m-%d').date()
    except ValueError:
        return "日期格式錯誤或為空。請確保您輸入的格式為 YYYY-MM-DD，例如：2025-07-01。"

    return '123'

# --- TAB 2: 公司通用 Q&A 功能 ---
def company_qa(question):
    if not gemini_model:
        return "Gemini AI 模型尚未成功初始化。請檢查您的 API 金鑰是否已正確設定。"
    if not question:
        return "請輸入您的問題。"
    try:
        prompt = f"""
        你是一個專業且友善的AI助理，專門回答公司內部同仁的通用問題。
        請根據以下問題，提供簡潔、清晰且有幫助的回答。
        問題: "{question}"
        """
        response = gemini_model.generate_content(prompt)
        return response.text
    except Exception as e:
        return f"與 Gemini AI 溝通時發生錯誤: {e}"

# --- TAB 3: IT 知識庫功能 ---
def it_knowledge_base_qa(question):
    if not gemini_model:
        return "Gemini AI 模型尚未成功初始化。請檢查您的 API 金鑰是否已正確設定。"
    if not question:
        return "請輸入您的IT問題。"
    try:
        prompt = f"""
        你是一位非常專業的IT技術支援專家。你的任務是根據使用者提出的IT相關問題，
        提供詳細、準確且易於理解的解決方案或操作步驟。
        請用繁體中文回答。
        使用者問題: "{question}"
        """
        response = gemini_model.generate_content(prompt)
        return response.text
    except Exception as e:
        return f"與 Gemini AI 溝通時發生錯誤: {e}"

# --- TAB 3: 直接顯示輸入內容的功能 ---
def display_user_input(user_text):
    answer = {"如何清除 Chrome 瀏覽器的快取？":"請用設定裡的清除CACHE","公司的年度特休有幾天?":"先把事情做完再說"}
    """
    直接回傳使用者輸入的文字。
    """
    if not user_text:
        return "您沒有輸入任何內容。"
    # 使用 Markdown 格式美化輸出
    if answer.get(user_text):
      return f"### 查詢到相關的內容如下：\n\n---\n\n{answer.get(user_text)}"
    else:
      return f"### 您的問題查詢不到到相關的內容：\n\n---\n\n{user_text}"

# --- 建立 Gradio 介面 (已修改為相容舊版) ---
with gr.Blocks(title="內部文件平台") as demo:
    gr.Markdown("# 內部文件整合平台")

    with gr.Tab("APACHE資料分析"):
        gr.Markdown("## Apache錯誤日誌分析器")
        gr.Markdown("請**手動輸入**您想查詢的日期範圍 (格式: YYYY-MM-DD)。")
        with gr.Row():
            # 【修正點】將日期選擇器改為最基礎的文字輸入框
            today = datetime.date.today()
            seven_days_ago = today - datetime.timedelta(days=7)
            start_date_input = gr.Textbox(label="開始日期", value=seven_days_ago.strftime('%Y-%m-%d'), placeholder="格式: YYYY-MM-DD")
            end_date_input = gr.Textbox(label="結束日期", value=today.strftime('%Y-%m-%d'), placeholder="格式: YYYY-MM-DD")

        analyze_button = gr.Button("分析日誌", variant="primary")
        result_output = gr.Textbox(label="分析結果", lines=15, interactive=False)

        analyze_button.click(
            fn=analyze_apache_logs,
            inputs=[start_date_input, end_date_input],
            outputs=result_output
        )

    with gr.Tab("公司通用Q&A"):
        gr.Markdown("## 公司通用問題AI問答")
        gr.Markdown("您可以詢問關於公司的一般性問題，例如：「請假流程是什麼？」、「如何申請IT設備？」等等。")

        company_question_input = gr.Textbox(label="請輸入您的問題", lines=5, placeholder="例如：公司的年度特休有幾天？")
        company_qa_button = gr.Button("送出問題", variant="primary")
        company_answer_output = gr.Markdown(label="AI 回應")

        company_qa_button.click(
            fn=display_user_input,
            inputs=company_question_input,
            outputs=company_answer_output
        )

    with gr.Tab("IT知識庫"):
        gr.Markdown("## IT 知識庫問答")
        gr.Markdown("請輸入您遇到的IT問題，AI將會從知識庫中尋找解決方案。")

        it_question_input = gr.Textbox(label="請輸入您的IT問題", lines=5, placeholder="例如：如何清除 Chrome 瀏覽器的快取？")
        it_qa_button = gr.Button("查詢知識庫", variant="primary")
        it_answer_output = gr.Markdown(label="AI 回應")

        it_qa_button.click(
            fn=display_user_input,
            inputs=it_question_input,
            outputs=it_answer_output
        )

# 啟動 Gradio 應用程式
if __name__ == "__main__":
    demo.launch(debug=True)
